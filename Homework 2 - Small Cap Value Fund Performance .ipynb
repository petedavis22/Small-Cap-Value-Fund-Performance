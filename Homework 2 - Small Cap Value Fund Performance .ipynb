{
 "cells": [
  {
   "cell_type": "markdown",
   "metadata": {},
   "source": [
    "# Asset Management HW2\n",
    "## Yiwei Zhou,Peter David,Sujay Chebbi, Khoi Tran,Lai Jiang\n"
   ]
  },
  {
   "cell_type": "code",
   "execution_count": 88,
   "metadata": {
    "scrolled": false
   },
   "outputs": [
    {
     "name": "stdout",
     "output_type": "stream",
     "text": [
      "Populating the interactive namespace from numpy and matplotlib\n"
     ]
    },
    {
     "name": "stderr",
     "output_type": "stream",
     "text": [
      "D:\\Anaconda\\lib\\site-packages\\IPython\\core\\magics\\pylab.py:160: UserWarning: pylab import has clobbered these variables: ['sqrt']\n",
      "`%matplotlib` prevents importing * from pylab and numpy\n",
      "  \"\\n`%matplotlib` prevents importing * from pylab and numpy\"\n"
     ]
    }
   ],
   "source": [
    "import numpy as np\n",
    "import pandas as pd\n",
    "%pylab inline"
   ]
  },
  {
   "cell_type": "code",
   "execution_count": 89,
   "metadata": {},
   "outputs": [
    {
     "name": "stderr",
     "output_type": "stream",
     "text": [
      "D:\\Anaconda\\lib\\site-packages\\IPython\\core\\interactiveshell.py:3058: DtypeWarning: Columns (4) have mixed types. Specify dtype option on import or set low_memory=False.\n",
      "  interactivity=interactivity, compiler=compiler, result=result)\n"
     ]
    },
    {
     "data": {
      "text/html": [
       "<div>\n",
       "<style scoped>\n",
       "    .dataframe tbody tr th:only-of-type {\n",
       "        vertical-align: middle;\n",
       "    }\n",
       "\n",
       "    .dataframe tbody tr th {\n",
       "        vertical-align: top;\n",
       "    }\n",
       "\n",
       "    .dataframe thead th {\n",
       "        text-align: right;\n",
       "    }\n",
       "</style>\n",
       "<table border=\"1\" class=\"dataframe\">\n",
       "  <thead>\n",
       "    <tr style=\"text-align: right;\">\n",
       "      <th></th>\n",
       "      <th>cusip8</th>\n",
       "      <th>summary_period2</th>\n",
       "      <th>crsp_fundno</th>\n",
       "      <th>tna_latest</th>\n",
       "      <th>tna_latest_dt</th>\n",
       "      <th>crsp_portno</th>\n",
       "      <th>fund_name</th>\n",
       "      <th>merge_fundno</th>\n",
       "      <th>lipper_class_name</th>\n",
       "    </tr>\n",
       "    <tr>\n",
       "      <th>caldt</th>\n",
       "      <th></th>\n",
       "      <th></th>\n",
       "      <th></th>\n",
       "      <th></th>\n",
       "      <th></th>\n",
       "      <th></th>\n",
       "      <th></th>\n",
       "      <th></th>\n",
       "      <th></th>\n",
       "    </tr>\n",
       "  </thead>\n",
       "  <tbody>\n",
       "    <tr>\n",
       "      <td>1999-12</td>\n",
       "      <td>NaN</td>\n",
       "      <td>AQ</td>\n",
       "      <td>292</td>\n",
       "      <td>15.1</td>\n",
       "      <td>19991231.0</td>\n",
       "      <td>NaN</td>\n",
       "      <td>CitiFunds Trust II: CitiFunds Small Cap Value ...</td>\n",
       "      <td>NaN</td>\n",
       "      <td>Small-Cap Value Funds</td>\n",
       "    </tr>\n",
       "    <tr>\n",
       "      <td>2000-12</td>\n",
       "      <td>23294140</td>\n",
       "      <td>AQ</td>\n",
       "      <td>479</td>\n",
       "      <td>17.2</td>\n",
       "      <td>20001229.0</td>\n",
       "      <td>NaN</td>\n",
       "      <td>The DLB Fund Group: DLB Enterprise III Fund</td>\n",
       "      <td>NaN</td>\n",
       "      <td>Small-Cap Value Funds</td>\n",
       "    </tr>\n",
       "    <tr>\n",
       "      <td>1999-12</td>\n",
       "      <td>NaN</td>\n",
       "      <td>AQ</td>\n",
       "      <td>479</td>\n",
       "      <td>33.5</td>\n",
       "      <td>19991231.0</td>\n",
       "      <td>NaN</td>\n",
       "      <td>The DLB Fund Group: DLB Enterprise III Fund</td>\n",
       "      <td>NaN</td>\n",
       "      <td>Small-Cap Value Funds</td>\n",
       "    </tr>\n",
       "    <tr>\n",
       "      <td>1999-12</td>\n",
       "      <td>NaN</td>\n",
       "      <td>AQ</td>\n",
       "      <td>657</td>\n",
       "      <td>43.2</td>\n",
       "      <td>19991231.0</td>\n",
       "      <td>NaN</td>\n",
       "      <td>1838 Investment Advisors Funds: 1838 Small Cap...</td>\n",
       "      <td>NaN</td>\n",
       "      <td>Small-Cap Value Funds</td>\n",
       "    </tr>\n",
       "    <tr>\n",
       "      <td>1999-12</td>\n",
       "      <td>NaN</td>\n",
       "      <td>AQ</td>\n",
       "      <td>671</td>\n",
       "      <td>85.3</td>\n",
       "      <td>19991231.0</td>\n",
       "      <td>NaN</td>\n",
       "      <td>Evergreen Select Equity Trust: Evergreen Selec...</td>\n",
       "      <td>10551.0</td>\n",
       "      <td>Small-Cap Value Funds</td>\n",
       "    </tr>\n",
       "  </tbody>\n",
       "</table>\n",
       "</div>"
      ],
      "text/plain": [
       "           cusip8 summary_period2  crsp_fundno tna_latest  tna_latest_dt  \\\n",
       "caldt                                                                      \n",
       "1999-12       NaN              AQ          292       15.1     19991231.0   \n",
       "2000-12  23294140              AQ          479       17.2     20001229.0   \n",
       "1999-12       NaN              AQ          479       33.5     19991231.0   \n",
       "1999-12       NaN              AQ          657       43.2     19991231.0   \n",
       "1999-12       NaN              AQ          671       85.3     19991231.0   \n",
       "\n",
       "         crsp_portno                                          fund_name  \\\n",
       "caldt                                                                     \n",
       "1999-12          NaN  CitiFunds Trust II: CitiFunds Small Cap Value ...   \n",
       "2000-12          NaN        The DLB Fund Group: DLB Enterprise III Fund   \n",
       "1999-12          NaN        The DLB Fund Group: DLB Enterprise III Fund   \n",
       "1999-12          NaN  1838 Investment Advisors Funds: 1838 Small Cap...   \n",
       "1999-12          NaN  Evergreen Select Equity Trust: Evergreen Selec...   \n",
       "\n",
       "         merge_fundno      lipper_class_name  \n",
       "caldt                                         \n",
       "1999-12           NaN  Small-Cap Value Funds  \n",
       "2000-12           NaN  Small-Cap Value Funds  \n",
       "1999-12           NaN  Small-Cap Value Funds  \n",
       "1999-12           NaN  Small-Cap Value Funds  \n",
       "1999-12       10551.0  Small-Cap Value Funds  "
      ]
     },
     "execution_count": 89,
     "metadata": {},
     "output_type": "execute_result"
    }
   ],
   "source": [
    "# This is loading in all possible mutual funds (doesn't include performance metrics)\n",
    "df = pd.read_csv('HW2_Data.csv')\n",
    "df[\"caldt\"] = pd.to_datetime(df[\"caldt\"], format=\"%Y%m%d\", errors=\"ignore\").dt.to_period(\"M\")\n",
    "df = df.set_index(\"caldt\")\n",
    "df = df[df['lipper_class_name'] == 'Small-Cap Value Funds']\n",
    "df.head()"
   ]
  },
  {
   "cell_type": "code",
   "execution_count": 90,
   "metadata": {},
   "outputs": [
    {
     "name": "stderr",
     "output_type": "stream",
     "text": [
      "D:\\Anaconda\\lib\\site-packages\\IPython\\core\\interactiveshell.py:3058: DtypeWarning: Columns (3,5) have mixed types. Specify dtype option on import or set low_memory=False.\n",
      "  interactivity=interactivity, compiler=compiler, result=result)\n"
     ]
    },
    {
     "data": {
      "text/html": [
       "<div>\n",
       "<style scoped>\n",
       "    .dataframe tbody tr th:only-of-type {\n",
       "        vertical-align: middle;\n",
       "    }\n",
       "\n",
       "    .dataframe tbody tr th {\n",
       "        vertical-align: top;\n",
       "    }\n",
       "\n",
       "    .dataframe thead th {\n",
       "        text-align: right;\n",
       "    }\n",
       "</style>\n",
       "<table border=\"1\" class=\"dataframe\">\n",
       "  <thead>\n",
       "    <tr style=\"text-align: right;\">\n",
       "      <th></th>\n",
       "      <th>cusip8</th>\n",
       "      <th>summary_period2</th>\n",
       "      <th>crsp_fundno</th>\n",
       "      <th>tna_latest</th>\n",
       "      <th>tna_latest_dt</th>\n",
       "      <th>crsp_portno</th>\n",
       "      <th>fund_name</th>\n",
       "      <th>merge_fundno</th>\n",
       "      <th>lipper_class_name</th>\n",
       "      <th>mret</th>\n",
       "      <th>aret</th>\n",
       "    </tr>\n",
       "  </thead>\n",
       "  <tbody>\n",
       "    <tr>\n",
       "      <td>0</td>\n",
       "      <td>NaN</td>\n",
       "      <td>AQ</td>\n",
       "      <td>292</td>\n",
       "      <td>15.1</td>\n",
       "      <td>19991231.0</td>\n",
       "      <td>NaN</td>\n",
       "      <td>CitiFunds Trust II: CitiFunds Small Cap Value ...</td>\n",
       "      <td>NaN</td>\n",
       "      <td>Small-Cap Value Funds</td>\n",
       "      <td>-0.009159</td>\n",
       "      <td>-0.104539</td>\n",
       "    </tr>\n",
       "    <tr>\n",
       "      <td>1</td>\n",
       "      <td>23294140</td>\n",
       "      <td>AQ</td>\n",
       "      <td>479</td>\n",
       "      <td>17.2</td>\n",
       "      <td>20001229.0</td>\n",
       "      <td>NaN</td>\n",
       "      <td>The DLB Fund Group: DLB Enterprise III Fund</td>\n",
       "      <td>NaN</td>\n",
       "      <td>Small-Cap Value Funds</td>\n",
       "      <td>0.006290</td>\n",
       "      <td>0.078147</td>\n",
       "    </tr>\n",
       "    <tr>\n",
       "      <td>2</td>\n",
       "      <td>NaN</td>\n",
       "      <td>AQ</td>\n",
       "      <td>479</td>\n",
       "      <td>33.5</td>\n",
       "      <td>19991231.0</td>\n",
       "      <td>NaN</td>\n",
       "      <td>The DLB Fund Group: DLB Enterprise III Fund</td>\n",
       "      <td>NaN</td>\n",
       "      <td>Small-Cap Value Funds</td>\n",
       "      <td>0.006290</td>\n",
       "      <td>0.078147</td>\n",
       "    </tr>\n",
       "    <tr>\n",
       "      <td>3</td>\n",
       "      <td>NaN</td>\n",
       "      <td>AQ</td>\n",
       "      <td>657</td>\n",
       "      <td>43.2</td>\n",
       "      <td>19991231.0</td>\n",
       "      <td>NaN</td>\n",
       "      <td>1838 Investment Advisors Funds: 1838 Small Cap...</td>\n",
       "      <td>NaN</td>\n",
       "      <td>Small-Cap Value Funds</td>\n",
       "      <td>0.002988</td>\n",
       "      <td>0.036455</td>\n",
       "    </tr>\n",
       "    <tr>\n",
       "      <td>4</td>\n",
       "      <td>NaN</td>\n",
       "      <td>AQ</td>\n",
       "      <td>671</td>\n",
       "      <td>85.3</td>\n",
       "      <td>19991231.0</td>\n",
       "      <td>NaN</td>\n",
       "      <td>Evergreen Select Equity Trust: Evergreen Selec...</td>\n",
       "      <td>10551.0</td>\n",
       "      <td>Small-Cap Value Funds</td>\n",
       "      <td>-0.003488</td>\n",
       "      <td>-0.041060</td>\n",
       "    </tr>\n",
       "  </tbody>\n",
       "</table>\n",
       "</div>"
      ],
      "text/plain": [
       "     cusip8 summary_period2  crsp_fundno tna_latest  tna_latest_dt  \\\n",
       "0       NaN              AQ          292       15.1     19991231.0   \n",
       "1  23294140              AQ          479       17.2     20001229.0   \n",
       "2       NaN              AQ          479       33.5     19991231.0   \n",
       "3       NaN              AQ          657       43.2     19991231.0   \n",
       "4       NaN              AQ          671       85.3     19991231.0   \n",
       "\n",
       "   crsp_portno                                          fund_name  \\\n",
       "0          NaN  CitiFunds Trust II: CitiFunds Small Cap Value ...   \n",
       "1          NaN        The DLB Fund Group: DLB Enterprise III Fund   \n",
       "2          NaN        The DLB Fund Group: DLB Enterprise III Fund   \n",
       "3          NaN  1838 Investment Advisors Funds: 1838 Small Cap...   \n",
       "4          NaN  Evergreen Select Equity Trust: Evergreen Selec...   \n",
       "\n",
       "   merge_fundno      lipper_class_name      mret      aret  \n",
       "0           NaN  Small-Cap Value Funds -0.009159 -0.104539  \n",
       "1           NaN  Small-Cap Value Funds  0.006290  0.078147  \n",
       "2           NaN  Small-Cap Value Funds  0.006290  0.078147  \n",
       "3           NaN  Small-Cap Value Funds  0.002988  0.036455  \n",
       "4       10551.0  Small-Cap Value Funds -0.003488 -0.041060  "
      ]
     },
     "execution_count": 90,
     "metadata": {},
     "output_type": "execute_result"
    }
   ],
   "source": [
    "# This includes monthly returns\n",
    "performance = pd.read_csv('monthly.csv')\n",
    "performance[\"caldt\"] = pd.to_datetime(performance[\"caldt\"], format=\"%Y%m%d\", errors=\"ignore\").dt.to_period(\"M\")\n",
    "performance = performance.set_index(\"caldt\")\n",
    "\n",
    "performance = performance[performance['mret'] != 'R']\n",
    "performance['mret'] = performance['mret'].apply(float)\n",
    "performance\n",
    "performance = performance.groupby(['crsp_fundno'])[['mret']].mean()\n",
    "new = df2.merge(performance, left_on='crsp_fundno',\n",
    "                                   right_on='crsp_fundno',\n",
    "                                   suffixes=['_df', '_performance'])\n",
    "#new.sort_values(by = 'tna_latest')\n",
    "new = new[new['tna_latest'].notna()]\n",
    "new = new[new['crsp_fundno'] != 22169]\n",
    "new['aret'] = (1 + new['mret'])**12 - 1\n",
    "new.head()"
   ]
  },
  {
   "cell_type": "code",
   "execution_count": 91,
   "metadata": {},
   "outputs": [
    {
     "data": {
      "text/plain": [
       "Text(0.5, 1.0, 'Small-Cap Value - Performance and Size')"
      ]
     },
     "execution_count": 91,
     "metadata": {},
     "output_type": "execute_result"
    },
    {
     "data": {
      "image/png": "[encoded data removed]",
      "text/plain": [
       "<Figure size 432x288 with 1 Axes>"
      ]
     },
     "metadata": {
      "needs_background": "light"
     },
     "output_type": "display_data"
    }
   ],
   "source": [
    "plot(new['tna_latest'], new['aret'], marker='o', color='blue', linestyle='None')\n",
    "xlabel('Total Net Assets (Millions)')\n",
    "ylabel('Average Annual Return')\n",
    "title('Small-Cap Value - Performance and Size')"
   ]
  },
  {
   "cell_type": "code",
   "execution_count": 92,
   "metadata": {},
   "outputs": [
    {
     "data": {
      "text/html": [
       "<div>\n",
       "<style scoped>\n",
       "    .dataframe tbody tr th:only-of-type {\n",
       "        vertical-align: middle;\n",
       "    }\n",
       "\n",
       "    .dataframe tbody tr th {\n",
       "        vertical-align: top;\n",
       "    }\n",
       "\n",
       "    .dataframe thead th {\n",
       "        text-align: right;\n",
       "    }\n",
       "</style>\n",
       "<table border=\"1\" class=\"dataframe\">\n",
       "  <thead>\n",
       "    <tr style=\"text-align: right;\">\n",
       "      <th></th>\n",
       "      <th>cusip8</th>\n",
       "      <th>summary_period2</th>\n",
       "      <th>crsp_fundno</th>\n",
       "      <th>tna_latest</th>\n",
       "      <th>tna_latest_dt</th>\n",
       "      <th>crsp_portno</th>\n",
       "      <th>fund_name</th>\n",
       "      <th>merge_fundno</th>\n",
       "      <th>lipper_class_name</th>\n",
       "      <th>mret</th>\n",
       "      <th>aret</th>\n",
       "    </tr>\n",
       "  </thead>\n",
       "  <tbody>\n",
       "    <tr>\n",
       "      <td>0</td>\n",
       "      <td>NaN</td>\n",
       "      <td>AQ</td>\n",
       "      <td>292</td>\n",
       "      <td>15.1</td>\n",
       "      <td>19991231.0</td>\n",
       "      <td>NaN</td>\n",
       "      <td>CitiFunds Trust II: CitiFunds Small Cap Value ...</td>\n",
       "      <td>NaN</td>\n",
       "      <td>Small-Cap Value Funds</td>\n",
       "      <td>-0.009159</td>\n",
       "      <td>-0.104539</td>\n",
       "    </tr>\n",
       "    <tr>\n",
       "      <td>1</td>\n",
       "      <td>23294140</td>\n",
       "      <td>AQ</td>\n",
       "      <td>479</td>\n",
       "      <td>17.2</td>\n",
       "      <td>20001229.0</td>\n",
       "      <td>NaN</td>\n",
       "      <td>The DLB Fund Group: DLB Enterprise III Fund</td>\n",
       "      <td>NaN</td>\n",
       "      <td>Small-Cap Value Funds</td>\n",
       "      <td>0.006290</td>\n",
       "      <td>0.078147</td>\n",
       "    </tr>\n",
       "    <tr>\n",
       "      <td>2</td>\n",
       "      <td>NaN</td>\n",
       "      <td>AQ</td>\n",
       "      <td>479</td>\n",
       "      <td>33.5</td>\n",
       "      <td>19991231.0</td>\n",
       "      <td>NaN</td>\n",
       "      <td>The DLB Fund Group: DLB Enterprise III Fund</td>\n",
       "      <td>NaN</td>\n",
       "      <td>Small-Cap Value Funds</td>\n",
       "      <td>0.006290</td>\n",
       "      <td>0.078147</td>\n",
       "    </tr>\n",
       "    <tr>\n",
       "      <td>3</td>\n",
       "      <td>NaN</td>\n",
       "      <td>AQ</td>\n",
       "      <td>657</td>\n",
       "      <td>43.2</td>\n",
       "      <td>19991231.0</td>\n",
       "      <td>NaN</td>\n",
       "      <td>1838 Investment Advisors Funds: 1838 Small Cap...</td>\n",
       "      <td>NaN</td>\n",
       "      <td>Small-Cap Value Funds</td>\n",
       "      <td>0.002988</td>\n",
       "      <td>0.036455</td>\n",
       "    </tr>\n",
       "    <tr>\n",
       "      <td>4</td>\n",
       "      <td>NaN</td>\n",
       "      <td>AQ</td>\n",
       "      <td>671</td>\n",
       "      <td>85.3</td>\n",
       "      <td>19991231.0</td>\n",
       "      <td>NaN</td>\n",
       "      <td>Evergreen Select Equity Trust: Evergreen Selec...</td>\n",
       "      <td>10551.0</td>\n",
       "      <td>Small-Cap Value Funds</td>\n",
       "      <td>-0.003488</td>\n",
       "      <td>-0.041060</td>\n",
       "    </tr>\n",
       "  </tbody>\n",
       "</table>\n",
       "</div>"
      ],
      "text/plain": [
       "     cusip8 summary_period2  crsp_fundno tna_latest  tna_latest_dt  \\\n",
       "0       NaN              AQ          292       15.1     19991231.0   \n",
       "1  23294140              AQ          479       17.2     20001229.0   \n",
       "2       NaN              AQ          479       33.5     19991231.0   \n",
       "3       NaN              AQ          657       43.2     19991231.0   \n",
       "4       NaN              AQ          671       85.3     19991231.0   \n",
       "\n",
       "   crsp_portno                                          fund_name  \\\n",
       "0          NaN  CitiFunds Trust II: CitiFunds Small Cap Value ...   \n",
       "1          NaN        The DLB Fund Group: DLB Enterprise III Fund   \n",
       "2          NaN        The DLB Fund Group: DLB Enterprise III Fund   \n",
       "3          NaN  1838 Investment Advisors Funds: 1838 Small Cap...   \n",
       "4          NaN  Evergreen Select Equity Trust: Evergreen Selec...   \n",
       "\n",
       "   merge_fundno      lipper_class_name      mret      aret  \n",
       "0           NaN  Small-Cap Value Funds -0.009159 -0.104539  \n",
       "1           NaN  Small-Cap Value Funds  0.006290  0.078147  \n",
       "2           NaN  Small-Cap Value Funds  0.006290  0.078147  \n",
       "3           NaN  Small-Cap Value Funds  0.002988  0.036455  \n",
       "4       10551.0  Small-Cap Value Funds -0.003488 -0.041060  "
      ]
     },
     "execution_count": 92,
     "metadata": {},
     "output_type": "execute_result"
    }
   ],
   "source": [
    "new.head()"
   ]
  },
  {
   "cell_type": "code",
   "execution_count": 93,
   "metadata": {},
   "outputs": [],
   "source": [
    "new['tna_latest'] = new['tna_latest'].apply(float)\n"
   ]
  },
  {
   "cell_type": "code",
   "execution_count": 94,
   "metadata": {},
   "outputs": [
    {
     "data": {
      "text/html": [
       "<div>\n",
       "<style scoped>\n",
       "    .dataframe tbody tr th:only-of-type {\n",
       "        vertical-align: middle;\n",
       "    }\n",
       "\n",
       "    .dataframe tbody tr th {\n",
       "        vertical-align: top;\n",
       "    }\n",
       "\n",
       "    .dataframe thead th {\n",
       "        text-align: right;\n",
       "    }\n",
       "</style>\n",
       "<table border=\"1\" class=\"dataframe\">\n",
       "  <thead>\n",
       "    <tr style=\"text-align: right;\">\n",
       "      <th></th>\n",
       "      <th>cusip8</th>\n",
       "      <th>summary_period2</th>\n",
       "      <th>crsp_fundno</th>\n",
       "      <th>tna_latest</th>\n",
       "      <th>tna_latest_dt</th>\n",
       "      <th>crsp_portno</th>\n",
       "      <th>fund_name</th>\n",
       "      <th>merge_fundno</th>\n",
       "      <th>lipper_class_name</th>\n",
       "      <th>mret</th>\n",
       "      <th>aret</th>\n",
       "      <th>binned_tna_latest</th>\n",
       "    </tr>\n",
       "  </thead>\n",
       "  <tbody>\n",
       "    <tr>\n",
       "      <td>0</td>\n",
       "      <td>NaN</td>\n",
       "      <td>AQ</td>\n",
       "      <td>292</td>\n",
       "      <td>15.1</td>\n",
       "      <td>19991231.0</td>\n",
       "      <td>NaN</td>\n",
       "      <td>CitiFunds Trust II: CitiFunds Small Cap Value ...</td>\n",
       "      <td>NaN</td>\n",
       "      <td>Small-Cap Value Funds</td>\n",
       "      <td>-0.009159</td>\n",
       "      <td>-0.104539</td>\n",
       "      <td>0-3000</td>\n",
       "    </tr>\n",
       "    <tr>\n",
       "      <td>1</td>\n",
       "      <td>23294140</td>\n",
       "      <td>AQ</td>\n",
       "      <td>479</td>\n",
       "      <td>17.2</td>\n",
       "      <td>20001229.0</td>\n",
       "      <td>NaN</td>\n",
       "      <td>The DLB Fund Group: DLB Enterprise III Fund</td>\n",
       "      <td>NaN</td>\n",
       "      <td>Small-Cap Value Funds</td>\n",
       "      <td>0.006290</td>\n",
       "      <td>0.078147</td>\n",
       "      <td>0-3000</td>\n",
       "    </tr>\n",
       "    <tr>\n",
       "      <td>2</td>\n",
       "      <td>NaN</td>\n",
       "      <td>AQ</td>\n",
       "      <td>479</td>\n",
       "      <td>33.5</td>\n",
       "      <td>19991231.0</td>\n",
       "      <td>NaN</td>\n",
       "      <td>The DLB Fund Group: DLB Enterprise III Fund</td>\n",
       "      <td>NaN</td>\n",
       "      <td>Small-Cap Value Funds</td>\n",
       "      <td>0.006290</td>\n",
       "      <td>0.078147</td>\n",
       "      <td>0-3000</td>\n",
       "    </tr>\n",
       "    <tr>\n",
       "      <td>3</td>\n",
       "      <td>NaN</td>\n",
       "      <td>AQ</td>\n",
       "      <td>657</td>\n",
       "      <td>43.2</td>\n",
       "      <td>19991231.0</td>\n",
       "      <td>NaN</td>\n",
       "      <td>1838 Investment Advisors Funds: 1838 Small Cap...</td>\n",
       "      <td>NaN</td>\n",
       "      <td>Small-Cap Value Funds</td>\n",
       "      <td>0.002988</td>\n",
       "      <td>0.036455</td>\n",
       "      <td>0-3000</td>\n",
       "    </tr>\n",
       "    <tr>\n",
       "      <td>4</td>\n",
       "      <td>NaN</td>\n",
       "      <td>AQ</td>\n",
       "      <td>671</td>\n",
       "      <td>85.3</td>\n",
       "      <td>19991231.0</td>\n",
       "      <td>NaN</td>\n",
       "      <td>Evergreen Select Equity Trust: Evergreen Selec...</td>\n",
       "      <td>10551.0</td>\n",
       "      <td>Small-Cap Value Funds</td>\n",
       "      <td>-0.003488</td>\n",
       "      <td>-0.041060</td>\n",
       "      <td>0-3000</td>\n",
       "    </tr>\n",
       "  </tbody>\n",
       "</table>\n",
       "</div>"
      ],
      "text/plain": [
       "     cusip8 summary_period2  crsp_fundno  tna_latest  tna_latest_dt  \\\n",
       "0       NaN              AQ          292        15.1     19991231.0   \n",
       "1  23294140              AQ          479        17.2     20001229.0   \n",
       "2       NaN              AQ          479        33.5     19991231.0   \n",
       "3       NaN              AQ          657        43.2     19991231.0   \n",
       "4       NaN              AQ          671        85.3     19991231.0   \n",
       "\n",
       "   crsp_portno                                          fund_name  \\\n",
       "0          NaN  CitiFunds Trust II: CitiFunds Small Cap Value ...   \n",
       "1          NaN        The DLB Fund Group: DLB Enterprise III Fund   \n",
       "2          NaN        The DLB Fund Group: DLB Enterprise III Fund   \n",
       "3          NaN  1838 Investment Advisors Funds: 1838 Small Cap...   \n",
       "4          NaN  Evergreen Select Equity Trust: Evergreen Selec...   \n",
       "\n",
       "   merge_fundno      lipper_class_name      mret      aret binned_tna_latest  \n",
       "0           NaN  Small-Cap Value Funds -0.009159 -0.104539            0-3000  \n",
       "1           NaN  Small-Cap Value Funds  0.006290  0.078147            0-3000  \n",
       "2           NaN  Small-Cap Value Funds  0.006290  0.078147            0-3000  \n",
       "3           NaN  Small-Cap Value Funds  0.002988  0.036455            0-3000  \n",
       "4       10551.0  Small-Cap Value Funds -0.003488 -0.041060            0-3000  "
      ]
     },
     "execution_count": 94,
     "metadata": {},
     "output_type": "execute_result"
    }
   ],
   "source": [
    "\n",
    "new['binned_tna_latest'] = pd.cut(new['tna_latest'], [0, 3000, 6000, 9000, 12000, 16000]\n",
    "                                  , labels=['0-3000', '3000-6000', '6000-9000', '9000-12000', '12000-16000'],\n",
    "                                 include_lowest=True)\n",
    "new.head()"
   ]
  },
  {
   "cell_type": "code",
   "execution_count": 95,
   "metadata": {},
   "outputs": [
    {
     "data": {
      "text/html": [
       "<div>\n",
       "<style scoped>\n",
       "    .dataframe tbody tr th:only-of-type {\n",
       "        vertical-align: middle;\n",
       "    }\n",
       "\n",
       "    .dataframe tbody tr th {\n",
       "        vertical-align: top;\n",
       "    }\n",
       "\n",
       "    .dataframe thead th {\n",
       "        text-align: right;\n",
       "    }\n",
       "</style>\n",
       "<table border=\"1\" class=\"dataframe\">\n",
       "  <thead>\n",
       "    <tr style=\"text-align: right;\">\n",
       "      <th></th>\n",
       "      <th>aret</th>\n",
       "    </tr>\n",
       "    <tr>\n",
       "      <th>binned_tna_latest</th>\n",
       "      <th></th>\n",
       "    </tr>\n",
       "  </thead>\n",
       "  <tbody>\n",
       "    <tr>\n",
       "      <td>0-3000</td>\n",
       "      <td>0.100473</td>\n",
       "    </tr>\n",
       "    <tr>\n",
       "      <td>3000-6000</td>\n",
       "      <td>0.136897</td>\n",
       "    </tr>\n",
       "    <tr>\n",
       "      <td>6000-9000</td>\n",
       "      <td>0.161652</td>\n",
       "    </tr>\n",
       "    <tr>\n",
       "      <td>9000-12000</td>\n",
       "      <td>0.145899</td>\n",
       "    </tr>\n",
       "    <tr>\n",
       "      <td>12000-16000</td>\n",
       "      <td>0.129144</td>\n",
       "    </tr>\n",
       "  </tbody>\n",
       "</table>\n",
       "</div>"
      ],
      "text/plain": [
       "                       aret\n",
       "binned_tna_latest          \n",
       "0-3000             0.100473\n",
       "3000-6000          0.136897\n",
       "6000-9000          0.161652\n",
       "9000-12000         0.145899\n",
       "12000-16000        0.129144"
      ]
     },
     "execution_count": 95,
     "metadata": {},
     "output_type": "execute_result"
    }
   ],
   "source": [
    "import matplotlib.pyplot as plt\n",
    "\n",
    "def avg(s):\n",
    "    return sum(s)/len(s)\n",
    "\n",
    "avg_aret = new.groupby(['binned_tna_latest'])[['aret']].mean()\n",
    "std_aret = new.groupby(['binned_tna_latest'])[['aret']].std()\n",
    "avg_aret"
   ]
  },
  {
   "cell_type": "code",
   "execution_count": 97,
   "metadata": {},
   "outputs": [
    {
     "data": {
      "text/plain": [
       "<matplotlib.axes._subplots.AxesSubplot at 0x1cf03939408>"
      ]
     },
     "execution_count": 97,
     "metadata": {},
     "output_type": "execute_result"
    },
    {
     "data": {
      "image/png": "[encoded data removed]",
      "text/plain": [
       "<Figure size 432x288 with 1 Axes>"
      ]
     },
     "metadata": {
      "needs_background": "light"
     },
     "output_type": "display_data"
    }
   ],
   "source": [
    "# plot average return bar plot\n",
    "avg_aret['aret'].plot(kind='bar', title = 'Mean Return vs Fund Size')\n"
   ]
  },
  {
   "cell_type": "code",
   "execution_count": 99,
   "metadata": {},
   "outputs": [
    {
     "data": {
      "text/html": [
       "<div>\n",
       "<style scoped>\n",
       "    .dataframe tbody tr th:only-of-type {\n",
       "        vertical-align: middle;\n",
       "    }\n",
       "\n",
       "    .dataframe tbody tr th {\n",
       "        vertical-align: top;\n",
       "    }\n",
       "\n",
       "    .dataframe thead th {\n",
       "        text-align: right;\n",
       "    }\n",
       "</style>\n",
       "<table border=\"1\" class=\"dataframe\">\n",
       "  <thead>\n",
       "    <tr style=\"text-align: right;\">\n",
       "      <th></th>\n",
       "      <th>aret</th>\n",
       "    </tr>\n",
       "    <tr>\n",
       "      <th>binned_tna_latest</th>\n",
       "      <th></th>\n",
       "    </tr>\n",
       "  </thead>\n",
       "  <tbody>\n",
       "    <tr>\n",
       "      <td>0-3000</td>\n",
       "      <td>0.044954</td>\n",
       "    </tr>\n",
       "    <tr>\n",
       "      <td>3000-6000</td>\n",
       "      <td>0.033008</td>\n",
       "    </tr>\n",
       "    <tr>\n",
       "      <td>6000-9000</td>\n",
       "      <td>0.042036</td>\n",
       "    </tr>\n",
       "    <tr>\n",
       "      <td>9000-12000</td>\n",
       "      <td>0.039612</td>\n",
       "    </tr>\n",
       "    <tr>\n",
       "      <td>12000-16000</td>\n",
       "      <td>0.013044</td>\n",
       "    </tr>\n",
       "  </tbody>\n",
       "</table>\n",
       "</div>"
      ],
      "text/plain": [
       "                       aret\n",
       "binned_tna_latest          \n",
       "0-3000             0.044954\n",
       "3000-6000          0.033008\n",
       "6000-9000          0.042036\n",
       "9000-12000         0.039612\n",
       "12000-16000        0.013044"
      ]
     },
     "execution_count": 99,
     "metadata": {},
     "output_type": "execute_result"
    }
   ],
   "source": [
    "std_aret"
   ]
  },
  {
   "cell_type": "code",
   "execution_count": 100,
   "metadata": {},
   "outputs": [
    {
     "data": {
      "text/plain": [
       "<matplotlib.axes._subplots.AxesSubplot at 0x1cfadc52148>"
      ]
     },
     "execution_count": 100,
     "metadata": {},
     "output_type": "execute_result"
    },
    {
     "data": {
      "image/png": "[encoded data removed]",
      "text/plain": [
       "<Figure size 432x288 with 1 Axes>"
      ]
     },
     "metadata": {
      "needs_background": "light"
     },
     "output_type": "display_data"
    }
   ],
   "source": [
    "# plot std bar plot\n",
    "std_aret['aret'].plot(kind='bar', title = 'Return SD vs Fund Size')"
   ]
  },
  {
   "cell_type": "code",
   "execution_count": 123,
   "metadata": {},
   "outputs": [],
   "source": [
    "# t-test for independent samples\n",
    "from math import sqrt\n",
    "from numpy.random import seed\n",
    "from numpy.random import randn\n",
    "from numpy import mean\n",
    "from scipy.stats import sem\n",
    "from scipy.stats import t\n",
    "\n",
    "def independent_ttest(data1, data2, alpha):\n",
    "    # calculate means\n",
    "    mean1, mean2 = mean(data1), mean(data2)\n",
    "    # calculate standard errors\n",
    "    se1, se2 = sem(data1), sem(data2)\n",
    "    # standard error on the difference between the samples\n",
    "    sed = sqrt(se1**2.0 + se2**2.0)\n",
    "    # calculate the t statistic\n",
    "    t_stat = (mean1 - mean2) / sed\n",
    "    # degrees of freedom\n",
    "    df = len(data1) + len(data2) - 2\n",
    "    # calculate the critical value\n",
    "    cv = t.ppf(1.0 - alpha, df)\n",
    "    # calculate the p-value\n",
    "    p = (1.0 - t.cdf(abs(t_stat), df)) * 2.0\n",
    "    # return everything\n",
    "    return t_stat, df, cv, p"
   ]
  },
  {
   "cell_type": "code",
   "execution_count": 124,
   "metadata": {},
   "outputs": [
    {
     "data": {
      "text/plain": [
       "(-7.748793855391789, 6664, 1.64508231576981, 1.0658141036401503e-14)"
      ]
     },
     "execution_count": 124,
     "metadata": {},
     "output_type": "execute_result"
    }
   ],
   "source": [
    "# t-test between size 0-3000 and size 3000-6000\n",
    "df_3000 = new[new['binned_tna_latest'] == '0-3000']\n",
    "df_6000 = new[new['binned_tna_latest'] == '3000-6000']\n",
    "independent_ttest(df_3000['aret'], df_6000['aret'], 0.05)"
   ]
  },
  {
   "cell_type": "code",
   "execution_count": 125,
   "metadata": {},
   "outputs": [],
   "source": [
    "new['tna_latest_size'] = pd.cut(new['tna_latest'], [0, 8000, 16000]\n",
    "                                  , labels=['0-8000', '8000-16000'],\n",
    "                                 include_lowest=True)"
   ]
  },
  {
   "cell_type": "code",
   "execution_count": 127,
   "metadata": {},
   "outputs": [
    {
     "data": {
      "text/plain": [
       "<matplotlib.axes._subplots.AxesSubplot at 0x1cf026ef808>"
      ]
     },
     "execution_count": 127,
     "metadata": {},
     "output_type": "execute_result"
    },
    {
     "data": {
      "image/png": "[encoded data removed]",
      "text/plain": [
       "<Figure size 432x288 with 1 Axes>"
      ]
     },
     "metadata": {
      "needs_background": "light"
     },
     "output_type": "display_data"
    }
   ],
   "source": [
    "# plot average return bar plot\n",
    "avg_aret['aret'].plot(kind='bar')"
   ]
  },
  {
   "cell_type": "code",
   "execution_count": 128,
   "metadata": {},
   "outputs": [
    {
     "name": "stdout",
     "output_type": "stream",
     "text": [
      "T-test provides a p_value of  2.2276380167607357e-05 \n",
      "Mean return difference between small and large size funds is statistically significant.\n"
     ]
    }
   ],
   "source": [
    "# t-test between size 0-9000 and size 9000-18000\n",
    "df_small = new.loc[(new.binned_tna_latest == '0-3000') | (new.binned_tna_latest == '3000-6000') | (new.binned_tna_latest == '6000-9000')]\n",
    "df_big = new.loc[(new.binned_tna_latest == '9000-12000') | (new.binned_tna_latest == '12000-15000') | (new.binned_tna_latest == '15000-18000')]\n",
    "\n",
    "p = independent_ttest(df_small['aret'], df_big['aret'], 0.05)\n",
    "print(\"T-test provides a p_value of \", p[3], '\\n'\n",
    "      \"Mean return difference between small and large size funds is statistically significant.\")"
   ]
  },
  {
   "cell_type": "markdown",
   "metadata": {},
   "source": [
    "Mean return of small size funds (0-9000K total net assets) is statistically different (smaller) from the mean return of large size funds (9000-16000K total net assets)"
   ]
  },
  {
   "cell_type": "code",
   "execution_count": 129,
   "metadata": {},
   "outputs": [
    {
     "data": {
      "text/plain": [
       "<matplotlib.axes._subplots.AxesSubplot at 0x1cf038f71c8>"
      ]
     },
     "execution_count": 129,
     "metadata": {},
     "output_type": "execute_result"
    },
    {
     "data": {
      "image/png": "[encoded data removed]",
      "text/plain": [
       "<Figure size 432x288 with 1 Axes>"
      ]
     },
     "metadata": {
      "needs_background": "light"
     },
     "output_type": "display_data"
    }
   ],
   "source": [
    "# plot std bar plot\n",
    "std_aret['aret'].plot(kind='bar')"
   ]
  },
  {
   "cell_type": "code",
   "execution_count": 130,
   "metadata": {},
   "outputs": [
    {
     "name": "stdout",
     "output_type": "stream",
     "text": [
      "F-test provides a p_value of  0.7482692978333005 \n",
      "Variance difference between small and large size funds are not statistically significant.\n"
     ]
    }
   ],
   "source": [
    "import scipy\n",
    "from scipy.stats import f\n",
    "\n",
    "# F-test between size 0-9000 and size 9000-18000\n",
    "F = var(df_small['aret']) / var(df_big['aret'])\n",
    "alpha = 0.05\n",
    "df1 = len(df_small['aret']) - 1\n",
    "df2 = len(df_big['aret']) - 1\n",
    "p_value = scipy.stats.f.cdf(F, df1, df2)\n",
    "print(\"F-test provides a p_value of \", p_value, '\\n'\n",
    "      \"Variance difference between small and large size funds are not statistically significant.\")"
   ]
  },
  {
   "cell_type": "code",
   "execution_count": null,
   "metadata": {},
   "outputs": [],
   "source": []
  },
  {
   "cell_type": "code",
   "execution_count": null,
   "metadata": {},
   "outputs": [],
   "source": []
  }
 ],
 "metadata": {
  "kernelspec": {
   "display_name": "Python 3",
   "language": "python",
   "name": "python3"
  },
  "language_info": {
   "codemirror_mode": {
    "name": "ipython",
    "version": 3
   },
   "file_extension": ".py",
   "mimetype": "text/x-python",
   "name": "python",
   "nbconvert_exporter": "python",
   "pygments_lexer": "ipython3",
   "version": "3.7.6"
  }
 },
 "nbformat": 4,
 "nbformat_minor": 4
}
